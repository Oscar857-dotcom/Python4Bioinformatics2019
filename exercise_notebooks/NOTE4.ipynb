{
 "cells": [
  {
   "cell_type": "code",
   "execution_count": 2,
   "id": "b7b19691-959d-4ed9-b801-d1444c06cf7c",
   "metadata": {},
   "outputs": [
    {
     "name": "stdout",
     "output_type": "stream",
     "text": [
      "['A', 'A', 'A', 'A', 'A', 'T', 'C', 'C', 'C', 'G', 'A', 'G', 'G', 'C', 'G', 'G', 'C', 'T', 'A', 'T', 'A', 'T', 'A', 'G', 'G', 'G', 'C', 'T', 'C', 'C', 'G', 'G', 'A', 'G', 'G', 'C', 'G', 'T', 'A', 'A', 'T', 'A', 'T', 'A', 'A', 'A', 'A']\n"
     ]
    }
   ],
   "source": [
    "DNA='AAAAATCCCGAGGCGGCTATATAGGGCTCCGGAGGCGTAATATAAAA'\n",
    "#converting it into a lisT\n",
    "Y=list('AAAAATCCCGAGGCGGCTATATAGGGCTCCGGAGGCGTAATATAAAA')\n",
    "print(Y)"
   ]
  },
  {
   "cell_type": "code",
   "execution_count": null,
   "id": "2ac4a7f8-818c-4e65-9972-426dab8ebca5",
   "metadata": {},
   "outputs": [],
   "source": [
    "Y.reverse()"
   ]
  },
  {
   "cell_type": "code",
   "execution_count": 5,
   "id": "f5547f39-fec9-486c-b443-f494e14d9066",
   "metadata": {},
   "outputs": [
    {
     "name": "stdout",
     "output_type": "stream",
     "text": [
      "['A', 'A', 'A', 'A', 'A', 'T', 'C', 'C', 'C', 'G', 'A', 'G', 'G', 'C', 'G', 'G', 'C', 'T', 'A', 'T', 'A', 'T', 'A', 'G', 'G', 'G', 'C', 'T', 'C', 'C', 'G', 'G', 'A', 'G', 'G', 'C', 'G', 'T', 'A', 'A', 'T', 'A', 'T', 'A', 'A', 'A', 'A']\n"
     ]
    }
   ],
   "source": [
    "print(Y)"
   ]
  },
  {
   "cell_type": "code",
   "execution_count": null,
   "id": "d8beb921-d6dd-4121-99a2-3600bee8e27a",
   "metadata": {},
   "outputs": [],
   "source": [
    "'':"
   ]
  },
  {
   "cell_type": "code",
   "execution_count": null,
   "id": "850bfb63-5d39-4ad8-94a6-baaf94115907",
   "metadata": {},
   "outputs": [],
   "source": [
    "#using strings"
   ]
  },
  {
   "cell_type": "code",
   "execution_count": 5,
   "id": "c8030594-f0f4-4761-afe9-5b46b4a8d007",
   "metadata": {},
   "outputs": [],
   "source": [
    "#reversing the DNA\n",
    "reversed_DNA = DNA[::-1]\n"
   ]
  },
  {
   "cell_type": "code",
   "execution_count": 6,
   "id": "14e7a64d-27ce-4e7c-8c60-03a0415121e2",
   "metadata": {},
   "outputs": [
    {
     "data": {
      "text/plain": [
       "'AAAATATAATGCGGAGGCCTCGGGATATATCGGCGGAGCCCTAAAAA'"
      ]
     },
     "execution_count": 6,
     "metadata": {},
     "output_type": "execute_result"
    }
   ],
   "source": [
    "reversed_DNA"
   ]
  },
  {
   "cell_type": "code",
   "execution_count": 9,
   "id": "fb3a1cc2-e260-4a43-a609-6a7bf3174910",
   "metadata": {},
   "outputs": [],
   "source": [
    "reversed_DNA = reversed_DNA.replace('A','t').replace('C','g').replace('G','c').replace('G','c').replace('T','a')"
   ]
  },
  {
   "cell_type": "code",
   "execution_count": 10,
   "id": "dfa3c91f-0e2f-4ed6-8e34-5fe4888678d2",
   "metadata": {},
   "outputs": [
    {
     "data": {
      "text/plain": [
       "'ttttttttttggggtggggtggggttttttggggggtggggtttttt'"
      ]
     },
     "execution_count": 10,
     "metadata": {},
     "output_type": "execute_result"
    }
   ],
   "source": [
    "reversed_DNA"
   ]
  },
  {
   "cell_type": "code",
   "execution_count": 11,
   "id": "97e7e336-458f-4b9b-af82-52956f58728a",
   "metadata": {},
   "outputs": [
    {
     "data": {
      "text/plain": [
       "'TTTTTTTTTTGGGGTGGGGTGGGGTTTTTTGGGGGGTGGGGTTTTTT'"
      ]
     },
     "execution_count": 11,
     "metadata": {},
     "output_type": "execute_result"
    }
   ],
   "source": [
    "#Make nucliutides capital letters\n",
    "reversed_DNA.upper()"
   ]
  },
  {
   "cell_type": "code",
   "execution_count": 12,
   "id": "33cd91bc-3274-4c96-a4d5-e632cb84bb94",
   "metadata": {},
   "outputs": [],
   "source": [
    "#using conditions"
   ]
  },
  {
   "cell_type": "code",
   "execution_count": 17,
   "id": "6df604ea-b445-4019-9911-5559a59619a6",
   "metadata": {},
   "outputs": [
    {
     "data": {
      "text/plain": [
       "'TTTTTAGGGCTCCGCCGATATATCCCGAGGCCTCCGCATTATATTTT'"
      ]
     },
     "execution_count": 17,
     "metadata": {},
     "output_type": "execute_result"
    }
   ],
   "source": [
    "OMM_DNA = []\n",
    "for nuc in DNA:\n",
    "    if nuc == 'A':\n",
    "        OMM_DNA.append('T')\n",
    "    elif nuc == 'T':\n",
    "        OMM_DNA.append('A')\n",
    "    elif nuc == 'C':\n",
    "        OMM_DNA.append('G')\n",
    "    elif nuc == 'G':\n",
    "        OMM_DNA.append('C')\n",
    "    else:\n",
    "        OMM_DNA.append(nuc)\n",
    "        \n",
    "        #reverse OMM_DNA by OMM_DNA.reverse()\n",
    "revOMMDNA = ''\n",
    "for nuc in OMM_DNA:\n",
    "    revOMMDNA = revOMMDNA + nuc\n",
    "    \n",
    "revOMMDNA\n",
    "\n"
   ]
  },
  {
   "cell_type": "code",
   "execution_count": 18,
   "id": "d5a587df-c8d1-4064-9f79-ef33de3f5155",
   "metadata": {},
   "outputs": [],
   "source": [
    "#using dict"
   ]
  },
  {
   "cell_type": "code",
   "execution_count": 19,
   "id": "74799c9f-d21a-4cb6-b051-98c5dc38353f",
   "metadata": {},
   "outputs": [
    {
     "data": {
      "text/plain": [
       "'AAAAATCCCGAGGCGGCTATATAGGGCTCCGGAGGCGTAATATAAAA'"
      ]
     },
     "execution_count": 19,
     "metadata": {},
     "output_type": "execute_result"
    }
   ],
   "source": [
    "DNA"
   ]
  },
  {
   "cell_type": "code",
   "execution_count": 20,
   "id": "2c5a8131-db8d-48ec-9318-ba1b8f06197e",
   "metadata": {},
   "outputs": [
    {
     "name": "stdout",
     "output_type": "stream",
     "text": [
      "CTTTTATATTACGCCTCCGGAGCCCTATATAGCCGCCTCGGGATTTTT\n"
     ]
    }
   ],
   "source": [
    "DNA= 'AAAAATCCCGAGGCGGCTATATAGGGCTCCGGAGGCGTAATATAAAAG'\n",
    "OMM_DNA_dict = {'A':'T', 'C':'G', 'G':'C', 'T':'A'}\n",
    "OMM_DNA= ''\n",
    "for nuc in DNA:\n",
    "    OMM_DNA = OMM_DNA_dict[nuc] + OMM_DNA\n",
    "print(OMM_DNA)"
   ]
  },
  {
   "cell_type": "code",
   "execution_count": null,
   "id": "6b42f58c-f6e1-45a7-8d49-1c4809a3a33b",
   "metadata": {},
   "outputs": [],
   "source": []
  }
 ],
 "metadata": {
  "kernelspec": {
   "display_name": "Python 3",
   "language": "python",
   "name": "python3"
  },
  "language_info": {
   "codemirror_mode": {
    "name": "ipython",
    "version": 3
   },
   "file_extension": ".py",
   "mimetype": "text/x-python",
   "name": "python",
   "nbconvert_exporter": "python",
   "pygments_lexer": "ipython3",
   "version": "3.9.5"
  }
 },
 "nbformat": 4,
 "nbformat_minor": 5
}
