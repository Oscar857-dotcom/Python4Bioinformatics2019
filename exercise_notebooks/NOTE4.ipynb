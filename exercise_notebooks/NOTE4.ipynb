{
 "cells": [
  {
   "cell_type": "code",
   "execution_count": 2,
   "id": "67eb5954",
   "metadata": {},
   "outputs": [
    {
     "name": "stdout",
     "output_type": "stream",
     "text": [
      "['A', 'A', 'A', 'A', 'A', 'T', 'C', 'C', 'C', 'G', 'A', 'G', 'G', 'C', 'G', 'G', 'C', 'T', 'A', 'T', 'A', 'T', 'A', 'G', 'G', 'G', 'C', 'T', 'C', 'C', 'G', 'G', 'A', 'G', 'G', 'C', 'G', 'T', 'A', 'A', 'T', 'A', 'T', 'A', 'A', 'A', 'A']\n"
     ]
    }
   ],
   "source": [
    "DNA='AAAAATCCCGAGGCGGCTATATAGGGCTCCGGAGGCGTAATATAAAA'\n",
    "#converting it into a lisT\n",
    "Y=list('AAAAATCCCGAGGCGGCTATATAGGGCTCCGGAGGCGTAATATAAAA')\n",
    "print(Y)"
   ]
  },
  {
   "cell_type": "code",
   "execution_count": null,
   "id": "18a207ea",
   "metadata": {},
   "outputs": [],
   "source": [
    "Y.reverse()"
   ]
  },
  {
   "cell_type": "code",
   "execution_count": 5,
   "id": "548e7e89",
   "metadata": {},
   "outputs": [
    {
     "name": "stdout",
     "output_type": "stream",
     "text": [
      "['A', 'A', 'A', 'A', 'A', 'T', 'C', 'C', 'C', 'G', 'A', 'G', 'G', 'C', 'G', 'G', 'C', 'T', 'A', 'T', 'A', 'T', 'A', 'G', 'G', 'G', 'C', 'T', 'C', 'C', 'G', 'G', 'A', 'G', 'G', 'C', 'G', 'T', 'A', 'A', 'T', 'A', 'T', 'A', 'A', 'A', 'A']\n"
     ]
    }
   ],
   "source": [
    "print(Y)"
   ]
  },
  {
   "cell_type": "code",
   "execution_count": null,
   "id": "bdb130a0",
   "metadata": {},
   "outputs": [],
   "source": [
    "'':"
   ]
  },
  {
   "cell_type": "code",
   "execution_count": null,
   "id": "313d6e0e",
   "metadata": {},
   "outputs": [],
   "source": [
    "#using strings"
   ]
  },
  {
   "cell_type": "code",
   "execution_count": 5,
   "id": "1cd2efde",
   "metadata": {},
   "outputs": [],
   "source": [
    "#reversing the DNA\n",
    "reversed_DNA = DNA[::-1]\n"
   ]
  },
  {
   "cell_type": "code",
   "execution_count": 6,
   "id": "4529af99",
   "metadata": {},
   "outputs": [
    {
     "data": {
      "text/plain": [
       "'AAAATATAATGCGGAGGCCTCGGGATATATCGGCGGAGCCCTAAAAA'"
      ]
     },
     "execution_count": 6,
     "metadata": {},
     "output_type": "execute_result"
    }
   ],
   "source": [
    "reversed_DNA"
   ]
  },
  {
   "cell_type": "code",
   "execution_count": 9,
   "id": "62a4add9",
   "metadata": {},
   "outputs": [],
   "source": [
    "reversed_DNA = reversed_DNA.replace('A','t').replace('C','g').replace('G','c').replace('G','c').replace('T','a')"
   ]
  },
  {
   "cell_type": "code",
   "execution_count": 10,
   "id": "b56237c6",
   "metadata": {},
   "outputs": [
    {
     "data": {
      "text/plain": [
       "'ttttttttttggggtggggtggggttttttggggggtggggtttttt'"
      ]
     },
     "execution_count": 10,
     "metadata": {},
     "output_type": "execute_result"
    }
   ],
   "source": [
    "reversed_DNA"
   ]
  },
  {
   "cell_type": "code",
   "execution_count": 11,
   "id": "83f1270d",
   "metadata": {},
   "outputs": [
    {
     "data": {
      "text/plain": [
       "'TTTTTTTTTTGGGGTGGGGTGGGGTTTTTTGGGGGGTGGGGTTTTTT'"
      ]
     },
     "execution_count": 11,
     "metadata": {},
     "output_type": "execute_result"
    }
   ],
   "source": [
    "#Make nucliutides capital letters\n",
    "reversed_DNA.upper()"
   ]
  },
  {
   "cell_type": "code",
   "execution_count": 12,
   "id": "1a82b028",
   "metadata": {},
   "outputs": [],
   "source": [
    "#using conditions"
   ]
  },
  {
   "cell_type": "code",
   "execution_count": 17,
   "id": "6bab55a0",
   "metadata": {},
   "outputs": [
    {
     "data": {
      "text/plain": [
       "'TTTTTAGGGCTCCGCCGATATATCCCGAGGCCTCCGCATTATATTTT'"
      ]
     },
     "execution_count": 17,
     "metadata": {},
     "output_type": "execute_result"
    }
   ],
   "source": [
    "OMM_DNA = []\n",
    "for nuc in DNA:\n",
    "    if nuc == 'A':\n",
    "        OMM_DNA.append('T')\n",
    "    elif nuc == 'T':\n",
    "        OMM_DNA.append('A')\n",
    "    elif nuc == 'C':\n",
    "        OMM_DNA.append('G')\n",
    "    elif nuc == 'G':\n",
    "        OMM_DNA.append('C')\n",
    "    else:\n",
    "        OMM_DNA.append(nuc)\n",
    "        \n",
    "        #reverse OMM_DNA by OMM_DNA.reverse()\n",
    "revOMMDNA = ''\n",
    "for nuc in OMM_DNA:\n",
    "    revOMMDNA = revOMMDNA + nuc\n",
    "    \n",
    "revOMMDNA\n",
    "\n"
   ]
  },
  {
   "cell_type": "code",
   "execution_count": 18,
   "id": "adbe4741",
   "metadata": {},
   "outputs": [],
   "source": [
    "#using dict"
   ]
  },
  {
   "cell_type": "code",
   "execution_count": 19,
   "id": "51626de7",
   "metadata": {},
   "outputs": [
    {
     "data": {
      "text/plain": [
       "'AAAAATCCCGAGGCGGCTATATAGGGCTCCGGAGGCGTAATATAAAA'"
      ]
     },
     "execution_count": 19,
     "metadata": {},
     "output_type": "execute_result"
    }
   ],
   "source": [
    "DNA"
   ]
  },
  {
   "cell_type": "code",
   "execution_count": 20,
   "id": "af4fc52c",
   "metadata": {},
   "outputs": [
    {
     "name": "stdout",
     "output_type": "stream",
     "text": [
      "CTTTTATATTACGCCTCCGGAGCCCTATATAGCCGCCTCGGGATTTTT\n"
     ]
    }
   ],
   "source": [
    "DNA= 'AAAAATCCCGAGGCGGCTATATAGGGCTCCGGAGGCGTAATATAAAAG'\n",
    "OMM_DNA_dict = {'A':'T', 'C':'G', 'G':'C', 'T':'A'}\n",
    "OMM_DNA= ''\n",
    "for nuc in DNA:\n",
    "    OMM_DNA = OMM_DNA_dict[nuc] + OMM_DNA\n",
    "print(OMM_DNA)"
   ]
  },
  {
   "cell_type": "code",
   "execution_count": null,
   "id": "c98dc173",
   "metadata": {},
   "outputs": [],
   "source": []
  }
 ],
 "metadata": {
  "kernelspec": {
   "display_name": "Python 3",
   "language": "python",
   "name": "python3"
  },
  "language_info": {
   "codemirror_mode": {
    "name": "ipython",
    "version": 3
   },
   "file_extension": ".py",
   "mimetype": "text/x-python",
   "name": "python",
   "nbconvert_exporter": "python",
   "pygments_lexer": "ipython3",
   "version": "3.9.5"
  }
 },
 "nbformat": 4,
 "nbformat_minor": 5
}
