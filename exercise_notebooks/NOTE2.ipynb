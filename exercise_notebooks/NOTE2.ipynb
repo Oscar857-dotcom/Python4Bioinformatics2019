{
 "cells": [
  {
   "cell_type": "code",
   "execution_count": 5,
   "metadata": {},
   "outputs": [
    {
     "name": "stdout",
     "output_type": "stream",
     "text": [
      "69\n"
     ]
    }
   ],
   "source": [
    "trna='AAGGGCTTAGCTTAATTAAAGTGGCTGATTTGCGTTCAGTTGATGCAGAGTGGGGTTTTGCAGTCCTTA'\n",
    "#get the total number of nucleotides.\n",
    "trna_total=len(trna)\n",
    "print(trna_total)"
   ]
  },
  {
   "cell_type": "code",
   "execution_count": 4,
   "metadata": {},
   "outputs": [
    {
     "name": "stdout",
     "output_type": "stream",
     "text": [
      "(21, 9)\n"
     ]
    }
   ],
   "source": [
    "trna='AAGGGCTTAGCTTAATTAAAGTGGCTGATTTGCGTTCAGTTGATGCAGAGTGGGGTTTTGCAGTCCTTA'\n",
    "#get the total number of nucleotides.\n",
    "trna_total=len(trna)\n",
    "#get 'G' and 'c' counts\n",
    "trna_GCcount=(trna.count('G'),trna.count('C'))\n",
    "print(trna_GCcount)"
   ]
  },
  {
   "cell_type": "code",
   "execution_count": 2,
   "metadata": {},
   "outputs": [
    {
     "name": "stdout",
     "output_type": "stream",
     "text": [
      "(15, 24)\n"
     ]
    }
   ],
   "source": [
    "trna='AAGGGCTTAGCTTAATTAAAGTGGCTGATTTGCGTTCAGTTGATGCAGAGTGGGGTTTTGCAGTCCTTA'\n",
    "#get the total number of nucleotides.\n",
    "trna_total=len(trna)\n",
    "#get 'A' and 'T' counts\n",
    "trna_GCcount=(trna.count('A'),trna.count('T'))\n",
    "print(trna_ATcount)"
   ]
  },
  {
   "cell_type": "code",
   "execution_count": 5,
   "metadata": {},
   "outputs": [
    {
     "name": "stdout",
     "output_type": "stream",
     "text": [
      "30\n"
     ]
    }
   ],
   "source": [
    "trna='AAGGGCTTAGCTTAATTAAAGTGGCTGATTTGCGTTCAGTTGATGCAGAGTGGGGTTTTGCAGTCCTTA'\n",
    "#get the total number of nucleotides.\n",
    "trna_total=len(trna)\n",
    "#get 'G' and 'c' counts\n",
    "trna_GCcount=(trna.count('G'),trna.count('C'))\n",
    "#get 'GC' total\n",
    "trna_GCtotal=(trna.count('G')+trna.count('C'))\n",
    "print(trna_GCtotal)"
   ]
  },
  {
   "cell_type": "code",
   "execution_count": 3,
   "metadata": {},
   "outputs": [
    {
     "name": "stdout",
     "output_type": "stream",
     "text": [
      "39\n"
     ]
    }
   ],
   "source": [
    "trna='AAGGGCTTAGCTTAATTAAAGTGGCTGATTTGCGTTCAGTTGATGCAGAGTGGGGTTTTGCAGTCCTTA'\n",
    "#get the total number of nucleotides.\n",
    "trna_total=len(trna)\n",
    "#get 'A' and 'T' counts\n",
    "trna_ATcount=(trna.count('A'),trna.count('T'))\n",
    "#get 'GC' total\n",
    "trna_ATtotal=(trna.count('A')+trna.count('T'))\n",
    "print(trna_ATtotal)"
   ]
  },
  {
   "cell_type": "code",
   "execution_count": 7,
   "metadata": {},
   "outputs": [
    {
     "name": "stdout",
     "output_type": "stream",
     "text": [
      "43.47826086956522\n"
     ]
    }
   ],
   "source": [
    "trna='AAGGGCTTAGCTTAATTAAAGTGGCTGATTTGCGTTCAGTTGATGCAGAGTGGGGTTTTGCAGTCCTTA'\n",
    "#get the total number of nucleotides.\n",
    "trna_total=len(trna)\n",
    "\n",
    "#get 'G' and 'c' counts\n",
    "trna_GCcount=(trna.count('G'),trna.count('C'))\n",
    "\n",
    "#get 'GC' total\n",
    "trna_GCtotal=(trna.count('G')+trna.count('C'))\n",
    "\n",
    "#get percentage 'GC'\n",
    "trna_prcnt=trna_GCtotal/trna_total*100 \n",
    "\n",
    "print(trna_prcnt)"
   ]
  },
  {
   "cell_type": "code",
   "execution_count": 11,
   "metadata": {},
   "outputs": [
    {
     "name": "stdout",
     "output_type": "stream",
     "text": [
      "56.52173913043478\n"
     ]
    }
   ],
   "source": [
    "trna='AAGGGCTTAGCTTAATTAAAGTGGCTGATTTGCGTTCAGTTGATGCAGAGTGGGGTTTTGCAGTCCTTA'\n",
    "#get the total number of nucleotides.\n",
    "trna_total=len(trna)\n",
    "\n",
    "#get 'A' and 'T' counts\n",
    "trna_ATcount=(trna.count('A'),trna.count('T'))\n",
    "\n",
    "#get 'AT' total\n",
    "trna_ATtotal=(trna.count('A')+trna.count('T'))\n",
    "\n",
    "#get percentage 'AT'\n",
    "trna_prcnt=trna_ATtotal/trna_total*100\n",
    "\n",
    "print(trna_prcnt)"
   ]
  },
  {
   "cell_type": "code",
   "execution_count": 2,
   "metadata": {},
   "outputs": [
    {
     "name": "stdout",
     "output_type": "stream",
     "text": [
      "First aminoacid of the sequence is M\n",
      "Last aminoacid of the sequence is A\n",
      "5th aminoacid of the sequence is L\n"
     ]
    }
   ],
   "source": [
    "am ='MNKMDLVADVAEKTDLSKAKATEVIDAVFA'\n",
    "#complete\n",
    "print('First aminoacid of the sequence is',am[0])\n",
    "print('Last aminoacid of the sequence is',am[len(am)-1])\n",
    "print('5th aminoacid of the sequence is',am[5])\n"
   ]
  },
  {
   "cell_type": "code",
   "execution_count": 1,
   "metadata": {},
   "outputs": [
    {
     "name": "stdout",
     "output_type": "stream",
     "text": [
      "27\n"
     ]
    }
   ],
   "source": [
    "S='AAAAATCCCGAGGCGGCTATATAGGGCTCCGGAGGCGTAATATAAAA'\n",
    "print(S.find('TCCGGA' [0:5]))\n",
    "#look at this\n",
    "         end = y+len('TCCGGA')\n"
   ]
  },
  {
   "cell_type": "code",
   "execution_count": null,
   "metadata": {},
   "outputs": [],
   "source": []
  }
 ],
 "metadata": {
  "kernelspec": {
   "display_name": "Python 3",
   "language": "python",
   "name": "python3"
  },
  "language_info": {
   "codemirror_mode": {
    "name": "ipython",
    "version": 3
   },
   "file_extension": ".py",
   "mimetype": "text/x-python",
   "name": "python",
   "nbconvert_exporter": "python",
   "pygments_lexer": "ipython3",
   "version": "3.8.5"
  }
 },
 "nbformat": 4,
 "nbformat_minor": 5
}
