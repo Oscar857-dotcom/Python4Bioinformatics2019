{
 "cells": [
  {
   "cell_type": "markdown",
   "id": "e4bf4192",
   "metadata": {},
   "source": [
    "## READING THE FILE "
   ]
  },
  {
   "cell_type": "code",
   "execution_count": 4,
   "id": "997593f5",
   "metadata": {},
   "outputs": [
    {
     "name": "stdout",
     "output_type": "stream",
     "text": [
      ">NM_001361694.1 Mus musculus nuclear respiratory factor 1 (Nrf1), transcript variant 9, mRNA\n",
      "\n"
     ]
    }
   ],
   "source": [
    "#read the file option one\n",
    "\n",
    "with open ('../Data/test.fa','r') as myfile:\n",
    "    lines = myfile.readline()\n",
    "    print(lines)"
   ]
  },
  {
   "cell_type": "code",
   "execution_count": 9,
   "id": "3d09940e",
   "metadata": {},
   "outputs": [
    {
     "name": "stdout",
     "output_type": "stream",
     "text": [
      ">NM_001361694.1 Mus musculus nuclear respiratory factor 1 (Nrf1), transcript variant 9, mRNA\n",
      "\n"
     ]
    }
   ],
   "source": [
    "#read the file option two\n",
    "testa_o = open('../Data/test.fa','r')\n",
    "lines = testa_o.readline()\n",
    "print(lines)"
   ]
  },
  {
   "cell_type": "markdown",
   "id": "7fc5aceb",
   "metadata": {},
   "source": [
    "## Extracting the identifier lines"
   ]
  },
  {
   "cell_type": "code",
   "execution_count": 14,
   "id": "f14dd48c",
   "metadata": {},
   "outputs": [
    {
     "name": "stdout",
     "output_type": "stream",
     "text": [
      "['>NM_001361694.1', 'Mus', 'musculus', 'nuclear', 'respiratory', 'factor', '1', '(Nrf1),', 'transcript', 'variant', '9,', 'mRNA']\n",
      "['>NM_001361695.1', 'Mus', 'musculus', 'nuclear', 'respiratory', 'factor', '1', '(Nrf1),', 'transcript', 'variant', '10,', 'mRNA']\n",
      "['>NM_001164226.1', 'Mus', 'musculus', 'nuclear', 'respiratory', 'factor', '1', '(Nrf1),', 'transcript', 'variant', '1,', 'mRNA']\n",
      "['>NM_010938.4', 'Mus', 'musculus', 'nuclear', 'respiratory', 'factor', '1', '(Nrf1),', 'transcript', 'variant', '6,', 'mRNA']\n",
      "['>AK082580.1', 'Mus', 'musculus', '0', 'day', 'neonate', 'cerebellum', 'cDNA,', 'RIKEN', 'full-length', 'enriched', 'library,', 'clone:C230066G05', 'product:nuclear', 'respiratory', 'factor', '1,', 'full', 'insert', 'sequence']\n",
      "['>XM_021165121.1', 'PREDICTED:', 'Mus', 'caroli', 'nuclear', 'respiratory', 'factor', '1', '(Nrf1),', 'transcript', 'variant', 'X5,', 'mRNA']\n",
      "['>XM_021165122.1', 'PREDICTED:', 'Mus', 'caroli', 'nuclear', 'respiratory', 'factor', '1', '(Nrf1),', 'transcript', 'variant', 'X6,', 'mRNA']\n",
      "['>AK029034.1', 'Mus', 'musculus', '10', 'days', 'neonate', 'skin', 'cDNA,', 'RIKEN', 'full-length', 'enriched', 'library,', 'clone:4732483G17', 'product:nuclear', 'respiratory', 'factor', '1,', 'full', 'insert', 'sequence']\n",
      "['>AK014494.1', 'Mus', 'musculus', '14', 'days', 'embryo', 'liver', 'cDNA,', 'RIKEN', 'full-length', 'enriched', 'library,', 'clone:4432414E03', 'product:nuclear', 'respiratory', 'factor', '1,', 'full', 'insert', 'sequence']\n",
      "['>NM_001361693.1', 'Mus', 'musculus', 'nuclear', 'respiratory', 'factor', '1', '(Nrf1),', 'transcript', 'variant', '8,', 'mRNA']\n",
      "['>NM_001361692.1', 'Mus', 'musculus', 'nuclear', 'respiratory', 'factor', '1', '(Nrf1),', 'transcript', 'variant', '7,', 'mRNA']\n",
      "['>XM_011241048.1', 'PREDICTED:', 'Mus', 'musculus', 'nuclear', 'respiratory', 'factor', '1', '(Nrf1),', 'transcript', 'variant', 'X8,', 'mRNA']\n",
      "['>AK031103.1', 'Mus', 'musculus', '13', 'days', 'embryo', 'forelimb', 'cDNA,', 'RIKEN', 'full-length', 'enriched', 'library,', 'clone:5930405C14', 'product:nuclear', 'respiratory', 'factor', '1,', 'full', 'insert', 'sequence']\n",
      "['>XM_021189475.1', 'PREDICTED:', 'Mus', 'pahari', 'nuclear', 'respiratory', 'factor', '1', '(Nrf1),', 'transcript', 'variant', 'X3,', 'mRNA']\n",
      "['>XM_006236198.3', 'PREDICTED:', 'Rattus', 'norvegicus', 'nuclear', 'respiratory', 'factor', '1', '(Nrf1),', 'transcript', 'variant', 'X5,', 'mRNA']\n",
      "['>XM_006979405.2', 'PREDICTED:', 'Peromyscus', 'maniculatus', 'bairdii', 'nuclear', 'respiratory', 'factor', '1', '(Nrf1),', 'transcript', 'variant', 'X5,', 'mRNA']\n",
      "['>AF098077.1', 'Mus', 'musculus', 'nuclear', 'respiratory', 'factor-1', '(Nrf1)', 'mRNA,', 'complete', 'cds']\n",
      "['>AC161538.7', 'Mus', 'musculus', '6', 'BAC', 'RP23-1D15', '(Roswell', 'Park', 'Cancer', 'Institute', '(C57BL/6J', 'Female)', 'Mouse', 'BAC', 'Library)', 'complete', 'sequence']\n",
      "['>AC153632.2', 'Mus', 'musculus', '6', 'BAC', 'RP23-450O1', '(Roswell', 'Park', 'Cancer', 'Institute', '(C57BL/6J', 'Female)', 'Mouse', 'BAC', 'Library)', 'complete', 'sequence']\n",
      "['>XM_017321440.1', 'PREDICTED:', 'Mus', 'musculus', 'nuclear', 'respiratory', 'factor', '1', '(Nrf1),', 'transcript', 'variant', 'X4,', 'mRNA']\n",
      "['>XM_021189492.1', 'PREDICTED:', 'Mus', 'pahari', 'nuclear', 'respiratory', 'factor', '1', '(Nrf1),', 'transcript', 'variant', 'X6,', 'mRNA']\n",
      "['>XM_007613569.2', 'PREDICTED:', 'Cricetulus', 'griseus', 'nuclear', 'respiratory', 'factor', '1', '(Nrf1),', 'transcript', 'variant', 'X4,', 'mRNA']\n",
      "['>XM_005078088.3', 'PREDICTED:', 'Mesocricetus', 'auratus', 'nuclear', 'respiratory', 'factor', '1', '(Nrf1),', 'transcript', 'variant', 'X2,', 'mRNA']\n",
      "['>XM_008762773.2', 'PREDICTED:', 'Rattus', 'norvegicus', 'nuclear', 'respiratory', 'factor', '1', '(Nrf1),', 'transcript', 'variant', 'X4,', 'mRNA']\n",
      "['>XM_008846354.2', 'PREDICTED:', 'Nannospalax', 'galili', 'nuclear', 'respiratory', 'factor', '1', '(Nrf1),', 'transcript', 'variant', 'X5,', 'mRNA']\n",
      "['>XM_008846355.2', 'PREDICTED:', 'Nannospalax', 'galili', 'nuclear', 'respiratory', 'factor', '1', '(Nrf1),', 'transcript', 'variant', 'X6,', 'mRNA']\n",
      "['>XM_015998079.1', 'PREDICTED:', 'Peromyscus', 'maniculatus', 'bairdii', 'nuclear', 'respiratory', 'factor', '1', '(Nrf1),', 'transcript', 'variant', 'X3,', 'mRNA']\n",
      "['>XM_011241046.2', 'PREDICTED:', 'Mus', 'musculus', 'nuclear', 'respiratory', 'factor', '1', '(Nrf1),', 'transcript', 'variant', 'X3,', 'mRNA']\n",
      "['>XM_007613561.2', 'PREDICTED:', 'Cricetulus', 'griseus', 'nuclear', 'respiratory', 'factor', '1', '(Nrf1),', 'transcript', 'variant', 'X3,', 'mRNA']\n",
      "['>XM_020160204.1', 'PREDICTED:', 'Castor', 'canadensis', 'nuclear', 'respiratory', 'factor', '1', '(Nrf1),', 'transcript', 'variant', 'X6,', 'mRNA']\n",
      "['>XM_015493834.1', 'PREDICTED:', 'Marmota', 'marmota', 'marmota', 'nuclear', 'respiratory', 'factor', '1', '(Nrf1),', 'transcript', 'variant', 'X1,', 'mRNA']\n",
      "['>XM_005365768.2', 'PREDICTED:', 'Microtus', 'ochrogaster', 'nuclear', 'respiratory', 'factor', '1', '(Nrf1),', 'transcript', 'variant', 'X4,', 'mRNA']\n",
      "['>XM_021730384.1', 'PREDICTED:', 'Ictidomys', 'tridecemlineatus', 'nuclear', 'respiratory', 'factor', '1', '(Nrf1),', 'transcript', 'variant', 'X1,', 'mRNA']\n",
      "['>XM_021237648.1', 'PREDICTED:', 'Heterocephalus', 'glaber', 'nuclear', 'respiratory', 'factor', '1', '(Nrf1),', 'transcript', 'variant', 'X3,', 'mRNA']\n",
      "['>XM_021237647.1', 'PREDICTED:', 'Heterocephalus', 'glaber', 'nuclear', 'respiratory', 'factor', '1', '(Nrf1),', 'transcript', 'variant', 'X2,', 'mRNA']\n",
      "['>XM_021237646.1', 'PREDICTED:', 'Heterocephalus', 'glaber', 'nuclear', 'respiratory', 'factor', '1', '(Nrf1),', 'transcript', 'variant', 'X1,', 'mRNA']\n",
      "['>JN949313.1', 'Mus', 'musculus', 'targeted', 'non-conditional,', 'lacZ-tagged', 'mutant', 'allele', 'Nrf1:tm1e(KOMP)Wtsi;', 'transgenic']\n",
      "['>JN945378.1', 'Mus', 'musculus', 'targeted', 'KO-first,', 'conditional', 'ready,', 'lacZ-tagged', 'mutant', 'allele', 'Nrf1:tm1a(KOMP)Wtsi;', 'transgenic']\n",
      "['>XM_021730387.1', 'PREDICTED:', 'Ictidomys', 'tridecemlineatus', 'nuclear', 'respiratory', 'factor', '1', '(Nrf1),', 'transcript', 'variant', 'X4,', 'mRNA']\n",
      "['>XM_013503283.1', 'PREDICTED:', 'Chinchilla', 'lanigera', 'nuclear', 'respiratory', 'factor', '1', '(Nrf1),', 'transcript', 'variant', 'X9,', 'mRNA']\n",
      "['>XM_013503282.1', 'PREDICTED:', 'Chinchilla', 'lanigera', 'nuclear', 'respiratory', 'factor', '1', '(Nrf1),', 'transcript', 'variant', 'X8,', 'mRNA']\n",
      "['>XM_013503281.1', 'PREDICTED:', 'Chinchilla', 'lanigera', 'nuclear', 'respiratory', 'factor', '1', '(Nrf1),', 'transcript', 'variant', 'X7,', 'mRNA']\n",
      "['>XM_013503280.1', 'PREDICTED:', 'Chinchilla', 'lanigera', 'nuclear', 'respiratory', 'factor', '1', '(Nrf1),', 'transcript', 'variant', 'X6,', 'mRNA']\n",
      "['>XM_005402417.2', 'PREDICTED:', 'Chinchilla', 'lanigera', 'nuclear', 'respiratory', 'factor', '1', '(Nrf1),', 'transcript', 'variant', 'X4,', 'mRNA']\n",
      "['>XM_014854351.1', 'PREDICTED:', 'Equus', 'asinus', 'nuclear', 'respiratory', 'factor', '1', '(NRF1),', 'transcript', 'variant', 'X1,', 'mRNA']\n",
      "['>XM_001502901.6', 'PREDICTED:', 'Equus', 'caballus', 'nuclear', 'respiratory', 'factor', '1', '(NRF1),', 'transcript', 'variant', 'X2,', 'mRNA']\n",
      "['>XM_008512637.1', 'PREDICTED:', 'Equus', 'przewalskii', 'nuclear', 'respiratory', 'factor', '1', '(NRF1),', 'mRNA']\n",
      "['>XM_012789202.2', 'PREDICTED:', 'Microcebus', 'murinus', 'nuclear', 'respiratory', 'factor', '1', '(NRF1),', 'transcript', 'variant', 'X7,', 'mRNA']\n",
      "['>XM_008574446.1', 'PREDICTED:', 'Galeopterus', 'variegatus', 'nuclear', 'respiratory', 'factor', '1', '(NRF1),', 'mRNA']\n",
      "['>XM_014784894.1', 'PREDICTED:', 'Ceratotherium', 'simum', 'simum', 'nuclear', 'respiratory', 'factor', '1', '(LOC101391114),', 'transcript', 'variant', 'X2,', 'mRNA']\n",
      "['>XM_012088037.1', 'PREDICTED:', 'Cercocebus', 'atys', 'nuclear', 'respiratory', 'factor', '1', '(NRF1),', 'transcript', 'variant', 'X3,', 'mRNA']\n",
      "['>XM_021730385.1', 'PREDICTED:', 'Ictidomys', 'tridecemlineatus', 'nuclear', 'respiratory', 'factor', '1', '(Nrf1),', 'transcript', 'variant', 'X2,', 'mRNA']\n",
      "['>XM_015493835.1', 'PREDICTED:', 'Marmota', 'marmota', 'marmota', 'nuclear', 'respiratory', 'factor', '1', '(Nrf1),', 'transcript', 'variant', 'X2,', 'mRNA']\n",
      "['>XM_015448031.1', 'PREDICTED:', 'Macaca', 'fascicularis', 'nuclear', 'respiratory', 'factor', '1', '(NRF1),', 'transcript', 'variant', 'X4,', 'mRNA']\n",
      "['>XM_015134910.1', 'PREDICTED:', 'Macaca', 'mulatta', 'nuclear', 'respiratory', 'factor', '1', '(NRF1),', 'transcript', 'variant', 'X2,', 'mRNA']\n",
      "['>XM_012088036.1', 'PREDICTED:', 'Cercocebus', 'atys', 'nuclear', 'respiratory', 'factor', '1', '(NRF1),', 'transcript', 'variant', 'X2,', 'mRNA']\n",
      "['>XM_007982896.1', 'PREDICTED:', 'Chlorocebus', 'sabaeus', 'nuclear', 'respiratory', 'factor', '1', '(NRF1),', 'transcript', 'variant', 'X7,', 'mRNA']\n",
      "['>XM_007982895.1', 'PREDICTED:', 'Chlorocebus', 'sabaeus', 'nuclear', 'respiratory', 'factor', '1', '(NRF1),', 'transcript', 'variant', 'X6,', 'mRNA']\n",
      "['>XM_012088042.1', 'PREDICTED:', 'Cercocebus', 'atys', 'nuclear', 'respiratory', 'factor', '1', '(NRF1),', 'transcript', 'variant', 'X7,', 'mRNA']\n",
      "['>XM_012088038.1', 'PREDICTED:', 'Cercocebus', 'atys', 'nuclear', 'respiratory', 'factor', '1', '(NRF1),', 'transcript', 'variant', 'X4,', 'mRNA']\n",
      "['>XM_024789577.1', 'PREDICTED:', 'Macaca', 'nemestrina', 'nuclear', 'respiratory', 'factor', '1', '(NRF1),', 'transcript', 'variant', 'X11,', 'mRNA']\n",
      "['>XM_021730386.1', 'PREDICTED:', 'Ictidomys', 'tridecemlineatus', 'nuclear', 'respiratory', 'factor', '1', '(Nrf1),', 'transcript', 'variant', 'X3,', 'mRNA']\n",
      "['>XM_012088041.1', 'PREDICTED:', 'Cercocebus', 'atys', 'nuclear', 'respiratory', 'factor', '1', '(NRF1),', 'transcript', 'variant', 'X6,', 'mRNA']\n",
      "['>XM_012088039.1', 'PREDICTED:', 'Cercocebus', 'atys', 'nuclear', 'respiratory', 'factor', '1', '(NRF1),', 'transcript', 'variant', 'X5,', 'mRNA']\n",
      "['>XM_017532570.1', 'PREDICTED:', 'Cebus', 'capucinus', 'imitator', 'nuclear', 'respiratory', 'factor', '1', '(NRF1),', 'transcript', 'variant', 'X1,', 'mRNA']\n",
      "['>XM_005550753.2', 'PREDICTED:', 'Macaca', 'fascicularis', 'nuclear', 'respiratory', 'factor', '1', '(NRF1),', 'transcript', 'variant', 'X5,', 'mRNA']\n",
      "['>XM_015134909.1', 'PREDICTED:', 'Macaca', 'mulatta', 'nuclear', 'respiratory', 'factor', '1', '(NRF1),', 'transcript', 'variant', 'X1,', 'mRNA']\n",
      "['>XM_011723889.1', 'PREDICTED:', 'Macaca', 'nemestrina', 'nuclear', 'respiratory', 'factor', '1', '(NRF1),', 'transcript', 'variant', 'X12,', 'mRNA']\n",
      "['>XM_011939585.1', 'PREDICTED:', 'Colobus', 'angolensis', 'palliatus', 'nuclear', 'respiratory', 'factor', '1', '(NRF1),', 'transcript', 'variant', 'X2,', 'mRNA']\n",
      "['>XM_015134911.1', 'PREDICTED:', 'Macaca', 'mulatta', 'nuclear', 'respiratory', 'factor', '1', '(NRF1),', 'transcript', 'variant', 'X3,', 'mRNA']\n",
      "['>XM_011723890.1', 'PREDICTED:', 'Macaca', 'nemestrina', 'nuclear', 'respiratory', 'factor', '1', '(NRF1),', 'transcript', 'variant', 'X13,', 'mRNA']\n",
      "['>XM_011995878.1', 'PREDICTED:', 'Mandrillus', 'leucophaeus', 'nuclear', 'respiratory', 'factor', '1', '(NRF1),', 'transcript', 'variant', 'X2,', 'mRNA']\n",
      "['>XM_015134912.1', 'PREDICTED:', 'Macaca', 'mulatta', 'nuclear', 'respiratory', 'factor', '1', '(NRF1),', 'transcript', 'variant', 'X4,', 'mRNA']\n",
      "['>XM_003803318.3', 'PREDICTED:', 'Otolemur', 'garnettii', 'nuclear', 'respiratory', 'factor', '1', '(NRF1),', 'mRNA']\n",
      "['>NM_001164227.1', 'Mus', 'musculus', 'nuclear', 'respiratory', 'factor', '1', '(Nrf1),', 'transcript', 'variant', '2,', 'mRNA']\n",
      "['>AK037697.1', 'Mus', 'musculus', '16', 'days', 'neonate', 'thymus', 'cDNA,', 'RIKEN', 'full-length', 'enriched', 'library,', 'clone:A130038J21', 'product:SIMILAR', 'TO', 'NUCLEAR', 'RESPIRATORY', 'FACTOR', '1', 'homolog', '[Mus', 'musculus],', 'full', 'insert', 'sequence']\n",
      "['>XM_016958154.2', 'PREDICTED:', 'Pan', 'troglodytes', 'nuclear', 'respiratory', 'factor', '1', '(NRF1),', 'transcript', 'variant', 'X7,', 'mRNA']\n",
      "['>XM_021936263.1', 'PREDICTED:', 'Papio', 'anubis', 'nuclear', 'respiratory', 'factor', '1', '(NRF1),', 'transcript', 'variant', 'X10,', 'mRNA']\n",
      "['>XM_003813488.3', 'PREDICTED:', 'Pan', 'paniscus', 'nuclear', 'respiratory', 'factor', '1', '(NRF1),', 'transcript', 'variant', 'X4,', 'mRNA']\n",
      "['>XM_003896587.4', 'PREDICTED:', 'Papio', 'anubis', 'nuclear', 'respiratory', 'factor', '1', '(NRF1),', 'transcript', 'variant', 'X11,', 'mRNA']\n",
      "['>XM_003951129.3', 'PREDICTED:', 'Pan', 'troglodytes', 'nuclear', 'respiratory', 'factor', '1', '(NRF1),', 'transcript', 'variant', 'X9,', 'mRNA']\n",
      "['>XM_001155756.5', 'PREDICTED:', 'Pan', 'troglodytes', 'nuclear', 'respiratory', 'factor', '1', '(NRF1),', 'transcript', 'variant', 'X8,', 'mRNA']\n",
      "['>XM_017957164.2', 'PREDICTED:', 'Papio', 'anubis', 'nuclear', 'respiratory', 'factor', '1', '(NRF1),', 'transcript', 'variant', 'X12,', 'mRNA']\n",
      "['>XM_021673680.1', 'PREDICTED:', 'Aotus', 'nancymaae', 'nuclear', 'respiratory', 'factor', '1', '(NRF1),', 'transcript', 'variant', 'X1,', 'mRNA']\n",
      "['>XM_010378768.1', 'PREDICTED:', 'Rhinopithecus', 'roxellana', 'nuclear', 'respiratory', 'factor', '1', '(NRF1),', 'transcript', 'variant', 'X1,', 'mRNA']\n",
      "['>XM_010378771.1', 'PREDICTED:', 'Rhinopithecus', 'roxellana', 'nuclear', 'respiratory', 'factor', '1', '(NRF1),', 'transcript', 'variant', 'X4,', 'mRNA']\n",
      "['>XM_017321441.1', 'PREDICTED:', 'Mus', 'musculus', 'nuclear', 'respiratory', 'factor', '1', '(Nrf1),', 'transcript', 'variant', 'X6,', 'mRNA']\n",
      "['>XM_021673683.1', 'PREDICTED:', 'Aotus', 'nancymaae', 'nuclear', 'respiratory', 'factor', '1', '(NRF1),', 'transcript', 'variant', 'X2,', 'mRNA']\n",
      "['>XM_010378770.1', 'PREDICTED:', 'Rhinopithecus', 'roxellana', 'nuclear', 'respiratory', 'factor', '1', '(NRF1),', 'transcript', 'variant', 'X3,', 'mRNA']\n",
      "['>XM_010378769.1', 'PREDICTED:', 'Rhinopithecus', 'roxellana', 'nuclear', 'respiratory', 'factor', '1', '(NRF1),', 'transcript', 'variant', 'X2,', 'mRNA']\n",
      "['>NM_001164230.1', 'Mus', 'musculus', 'nuclear', 'respiratory', 'factor', '1', '(Nrf1),', 'transcript', 'variant', '5,', 'mRNA']\n",
      "['>XM_024250195.1', 'PREDICTED:', 'Pongo', 'abelii', 'nuclear', 'respiratory', 'factor', '1', '(NRF1),', 'transcript', 'variant', 'X1,', 'mRNA']\n",
      "['>XM_006505006.3', 'PREDICTED:', 'Mus', 'musculus', 'nuclear', 'respiratory', 'factor', '1', '(Nrf1),', 'transcript', 'variant', 'X5,', 'mRNA']\n",
      "['>XM_010378772.1', 'PREDICTED:', 'Rhinopithecus', 'roxellana', 'nuclear', 'respiratory', 'factor', '1', '(NRF1),', 'transcript', 'variant', 'X5,', 'mRNA']\n",
      "['>XM_024250197.1', 'PREDICTED:', 'Pongo', 'abelii', 'nuclear', 'respiratory', 'factor', '1', '(NRF1),', 'transcript', 'variant', 'X3,', 'mRNA']\n",
      "['>XM_024250196.1', 'PREDICTED:', 'Pongo', 'abelii', 'nuclear', 'respiratory', 'factor', '1', '(NRF1),', 'transcript', 'variant', 'X2,', 'mRNA']\n",
      "['>L22454.1', 'Homo', 'sapiens', 'nuclear', 'respiratory', 'factor-1', '(NRF-1)', 'mRNA,', 'complete', 'cds']\n",
      "['>AK134483.1', 'Mus', 'musculus', '11', 'days', 'embryo', 'head', 'cDNA,', 'RIKEN', 'full-length', 'enriched', 'library,', 'clone:6230412K09', 'product:nuclear', 'respiratory', 'factor', '1,', 'full', 'insert', 'sequence']\n",
      "['>U02683.1', 'Homo', 'sapiens', 'alpha', 'palindromic', 'binding', 'protein', 'mRNA,', 'complete', 'cds']\n",
      "['>NM_001040110.1', 'Homo', 'sapiens', 'nuclear', 'respiratory', 'factor', '1', '(NRF1),', 'transcript', 'variant', '2,', 'mRNA']\n"
     ]
    }
   ],
   "source": [
    "with open('../Data/test.fa','r') as testa_o:\n",
    "    oscar = testa_o.readlines()\n",
    "    for lines in oscar:\n",
    "            #print(lines)\n",
    "        if lines.startswith(\">\"):\n",
    "            #print(lines)\n",
    "                sp_l = lines.split()\n",
    "                #print(sp_l)\n",
    "                fields = [sp_l(1),sp_l(2)]\n",
    "                #print(fields)"
   ]
  },
  {
   "cell_type": "code",
   "execution_count": null,
   "id": "b0d20131",
   "metadata": {},
   "outputs": [],
   "source": []
  },
  {
   "cell_type": "code",
   "execution_count": null,
   "id": "dddc7c9a",
   "metadata": {},
   "outputs": [],
   "source": []
  },
  {
   "cell_type": "code",
   "execution_count": null,
   "id": "eef761ee-8069-4924-9c58-bc58cfeba87b",
   "metadata": {},
   "outputs": [],
   "source": []
  }
 ],
 "metadata": {
  "kernelspec": {
   "display_name": "Python 3",
   "language": "python",
   "name": "python3"
  },
  "language_info": {
   "codemirror_mode": {
    "name": "ipython",
    "version": 3
   },
   "file_extension": ".py",
   "mimetype": "text/x-python",
   "name": "python",
   "nbconvert_exporter": "python",
   "pygments_lexer": "ipython3",
   "version": "3.9.5"
  }
 },
 "nbformat": 4,
 "nbformat_minor": 5
}
