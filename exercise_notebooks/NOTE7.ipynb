{
 "cells": [
  {
   "cell_type": "markdown",
   "id": "e4bf4192",
   "metadata": {},
   "source": [
    "## READING THE FILE "
   ]
  },
  {
   "cell_type": "code",
   "execution_count": 4,
   "id": "997593f5",
   "metadata": {},
   "outputs": [
    {
     "name": "stdout",
     "output_type": "stream",
     "text": [
      ">NM_001361694.1 Mus musculus nuclear respiratory factor 1 (Nrf1), transcript variant 9, mRNA\n",
      "\n"
     ]
    }
   ],
   "source": [
    "#read the file option one\n",
    "\n",
    "with open ('../Data/test.fa','r') as myfile:\n",
    "    lines = myfile.readline()\n",
    "    print(lines)"
   ]
  },
  {
   "cell_type": "code",
   "execution_count": 9,
   "id": "3d09940e",
   "metadata": {},
   "outputs": [
    {
     "name": "stdout",
     "output_type": "stream",
     "text": [
      ">NM_001361694.1 Mus musculus nuclear respiratory factor 1 (Nrf1), transcript variant 9, mRNA\n",
      "\n"
     ]
    }
   ],
   "source": [
    "#read the file option two\n",
    "testa_o = open('../Data/test.fa','r')\n",
    "lines = testa_o.readline()\n",
    "print(lines)"
   ]
  },
  {
   "cell_type": "markdown",
   "id": "7fc5aceb",
   "metadata": {},
   "source": [
    "## Extracting the identifier lines"
   ]
  },
  {
   "cell_type": "code",
   "execution_count": 41,
   "id": "f14dd48c",
   "metadata": {},
   "outputs": [
    {
     "name": "stdout",
     "output_type": "stream",
     "text": [
      "['Mus', 'musculus']\n",
      "['Mus', 'musculus']\n",
      "['Mus', 'musculus']\n",
      "['Mus', 'musculus']\n",
      "['Mus', 'musculus']\n",
      "['Mus', 'caroli']\n",
      "['Mus', 'caroli']\n",
      "['Mus', 'musculus']\n",
      "['Mus', 'musculus']\n",
      "['Mus', 'musculus']\n",
      "['Mus', 'musculus']\n",
      "['Mus', 'musculus']\n",
      "['Mus', 'musculus']\n",
      "['Mus', 'pahari']\n",
      "['Rattus', 'norvegicus']\n",
      "['Peromyscus', 'maniculatus']\n",
      "['Mus', 'musculus']\n",
      "['Mus', 'musculus']\n",
      "['Mus', 'musculus']\n",
      "['Mus', 'musculus']\n",
      "['Mus', 'pahari']\n",
      "['Cricetulus', 'griseus']\n",
      "['Mesocricetus', 'auratus']\n",
      "['Rattus', 'norvegicus']\n",
      "['Nannospalax', 'galili']\n",
      "['Nannospalax', 'galili']\n",
      "['Peromyscus', 'maniculatus']\n",
      "['Mus', 'musculus']\n",
      "['Cricetulus', 'griseus']\n",
      "['Castor', 'canadensis']\n",
      "['Marmota', 'marmota']\n",
      "['Microtus', 'ochrogaster']\n",
      "['Ictidomys', 'tridecemlineatus']\n",
      "['Heterocephalus', 'glaber']\n",
      "['Heterocephalus', 'glaber']\n",
      "['Heterocephalus', 'glaber']\n",
      "['Mus', 'musculus']\n",
      "['Mus', 'musculus']\n",
      "['Ictidomys', 'tridecemlineatus']\n",
      "['Chinchilla', 'lanigera']\n",
      "['Chinchilla', 'lanigera']\n",
      "['Chinchilla', 'lanigera']\n",
      "['Chinchilla', 'lanigera']\n",
      "['Chinchilla', 'lanigera']\n",
      "['Equus', 'asinus']\n",
      "['Equus', 'caballus']\n",
      "['Equus', 'przewalskii']\n",
      "['Microcebus', 'murinus']\n",
      "['Galeopterus', 'variegatus']\n",
      "['Ceratotherium', 'simum']\n",
      "['Cercocebus', 'atys']\n",
      "['Ictidomys', 'tridecemlineatus']\n",
      "['Marmota', 'marmota']\n",
      "['Macaca', 'fascicularis']\n",
      "['Macaca', 'mulatta']\n",
      "['Cercocebus', 'atys']\n",
      "['Chlorocebus', 'sabaeus']\n",
      "['Chlorocebus', 'sabaeus']\n",
      "['Cercocebus', 'atys']\n",
      "['Cercocebus', 'atys']\n",
      "['Macaca', 'nemestrina']\n",
      "['Ictidomys', 'tridecemlineatus']\n",
      "['Cercocebus', 'atys']\n",
      "['Cercocebus', 'atys']\n",
      "['Cebus', 'capucinus']\n",
      "['Macaca', 'fascicularis']\n",
      "['Macaca', 'mulatta']\n",
      "['Macaca', 'nemestrina']\n",
      "['Colobus', 'angolensis']\n",
      "['Macaca', 'mulatta']\n",
      "['Macaca', 'nemestrina']\n",
      "['Mandrillus', 'leucophaeus']\n",
      "['Macaca', 'mulatta']\n",
      "['Otolemur', 'garnettii']\n",
      "['Mus', 'musculus']\n",
      "['Mus', 'musculus']\n",
      "['Pan', 'troglodytes']\n",
      "['Papio', 'anubis']\n",
      "['Pan', 'paniscus']\n",
      "['Papio', 'anubis']\n",
      "['Pan', 'troglodytes']\n",
      "['Pan', 'troglodytes']\n",
      "['Papio', 'anubis']\n",
      "['Aotus', 'nancymaae']\n",
      "['Rhinopithecus', 'roxellana']\n",
      "['Rhinopithecus', 'roxellana']\n",
      "['Mus', 'musculus']\n",
      "['Aotus', 'nancymaae']\n",
      "['Rhinopithecus', 'roxellana']\n",
      "['Rhinopithecus', 'roxellana']\n",
      "['Mus', 'musculus']\n",
      "['Pongo', 'abelii']\n",
      "['Mus', 'musculus']\n",
      "['Rhinopithecus', 'roxellana']\n",
      "['Pongo', 'abelii']\n",
      "['Pongo', 'abelii']\n",
      "['Homo', 'sapiens']\n",
      "['Mus', 'musculus']\n",
      "['Homo', 'sapiens']\n",
      "['Homo', 'sapiens']\n"
     ]
    }
   ],
   "source": [
    "\n",
    "with open('../Data/test.fa','r') as testa_o:\n",
    "    oscar = testa_o.readlines()\n",
    "    for lines in oscar:\n",
    "            #print(lines)\n",
    "        if lines.startswith(\">\"):\n",
    "            #print(lines)\n",
    "                sp_l = lines.split()\n",
    "                #print(sp_l)\n",
    "                if sp_l[1] == \"PREDICTED:\":\n",
    "                    \n",
    "                    fields = [sp_l [2] , sp_l [3]]\n",
    "                else:\n",
    "                    fields = [sp_l [1] , sp_l [2]]\n",
    "                print(fields)\n"
   ]
  },
  {
   "cell_type": "code",
   "execution_count": 86,
   "id": "dddc7c9a",
   "metadata": {},
   "outputs": [
    {
     "name": "stdout",
     "output_type": "stream",
     "text": [
      "['Mus musculus', 'Mus musculus', 'Mus musculus', 'Mus musculus', 'Mus musculus', 'Mus caroli', 'Mus caroli', 'Mus musculus', 'Mus musculus', 'Mus musculus', 'Mus musculus', 'Mus musculus', 'Mus musculus', 'Mus pahari', 'Rattus norvegicus', 'Peromyscus maniculatus', 'Mus musculus', 'Mus musculus', 'Mus musculus', 'Mus musculus', 'Mus pahari', 'Cricetulus griseus', 'Mesocricetus auratus', 'Rattus norvegicus', 'Nannospalax galili', 'Nannospalax galili', 'Peromyscus maniculatus', 'Mus musculus', 'Cricetulus griseus', 'Castor canadensis', 'Marmota marmota', 'Microtus ochrogaster', 'Ictidomys tridecemlineatus', 'Heterocephalus glaber', 'Heterocephalus glaber', 'Heterocephalus glaber', 'Mus musculus', 'Mus musculus', 'Ictidomys tridecemlineatus', 'Chinchilla lanigera', 'Chinchilla lanigera', 'Chinchilla lanigera', 'Chinchilla lanigera', 'Chinchilla lanigera', 'Equus asinus', 'Equus caballus', 'Equus przewalskii', 'Microcebus murinus', 'Galeopterus variegatus', 'Ceratotherium simum', 'Cercocebus atys', 'Ictidomys tridecemlineatus', 'Marmota marmota', 'Macaca fascicularis', 'Macaca mulatta', 'Cercocebus atys', 'Chlorocebus sabaeus', 'Chlorocebus sabaeus', 'Cercocebus atys', 'Cercocebus atys', 'Macaca nemestrina', 'Ictidomys tridecemlineatus', 'Cercocebus atys', 'Cercocebus atys', 'Cebus capucinus', 'Macaca fascicularis', 'Macaca mulatta', 'Macaca nemestrina', 'Colobus angolensis', 'Macaca mulatta', 'Macaca nemestrina', 'Mandrillus leucophaeus', 'Macaca mulatta', 'Otolemur garnettii', 'Mus musculus', 'Mus musculus', 'Pan troglodytes', 'Papio anubis', 'Pan paniscus', 'Papio anubis', 'Pan troglodytes', 'Pan troglodytes', 'Papio anubis', 'Aotus nancymaae', 'Rhinopithecus roxellana', 'Rhinopithecus roxellana', 'Mus musculus', 'Aotus nancymaae', 'Rhinopithecus roxellana', 'Rhinopithecus roxellana', 'Mus musculus', 'Pongo abelii', 'Mus musculus', 'Rhinopithecus roxellana', 'Pongo abelii', 'Pongo abelii', 'Homo sapiens', 'Mus musculus', 'Homo sapiens', 'Homo sapiens']\n"
     ]
    }
   ],
   "source": [
    "speciesm = []\n",
    "with open('../Data/test.fa','r') as testa_o:\n",
    "    oscar = testa_o.readlines()\n",
    "    for lines in oscar:\n",
    "            #print(lines)\n",
    "        if lines.startswith(\">\"):\n",
    "            #print(lines)\n",
    "                sp_l = lines.split()\n",
    "                #print(sp_l)\n",
    "                if sp_l[1] == \"PREDICTED:\":\n",
    "                    \n",
    "                    fields = [sp_l[2],sp_l[3]]\n",
    "                else:\n",
    "                    fields = [sp_l[1],sp_l[2]]\n",
    "                    \n",
    "                #print(fields)\n",
    "                species = fields\n",
    "                specie = ' '\n",
    "                specie = specie.join(species)\n",
    "                #print(specie)\n",
    "                speciesm.append(specie)\n",
    "print(speciesm)\n"
   ]
  },
  {
   "cell_type": "code",
   "execution_count": null,
   "id": "eef761ee-8069-4924-9c58-bc58cfeba87b",
   "metadata": {},
   "outputs": [],
   "source": []
  }
 ],
 "metadata": {
  "kernelspec": {
   "display_name": "Python 3",
   "language": "python",
   "name": "python3"
  },
  "language_info": {
   "codemirror_mode": {
    "name": "ipython",
    "version": 3
   },
   "file_extension": ".py",
   "mimetype": "text/x-python",
   "name": "python",
   "nbconvert_exporter": "python",
   "pygments_lexer": "ipython3",
   "version": "3.9.5"
  }
 },
 "nbformat": 4,
 "nbformat_minor": 5
}
