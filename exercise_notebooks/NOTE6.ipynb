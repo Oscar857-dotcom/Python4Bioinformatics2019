{
 "cells": [
  {
   "cell_type": "code",
   "execution_count": 8,
   "metadata": {},
   "outputs": [
    {
     "name": "stdout",
     "output_type": "stream",
     "text": [
      "43.47826086956522\n"
     ]
    }
   ],
   "source": [
    "def percentageGC(dna):\n",
    "    dna_total=len(dna) \n",
    "    dna_GCtotal=(dna.count('G')+dna.count('C'))\n",
    "    dna_prcnt=dna_GCtotal/dna_total*100\n",
    "    return dna_prcnt\n",
    "dna_prcntg = percentageGC('AAGGGCTTAGCTTAATTAAAGTGGCTGATTTGCGTTCAGTTGATGCAGAGTGGGGTTTTGCAGTCCTTA')\n",
    "print(dna_prcntg)"
   ]
  },
  {
   "cell_type": "code",
   "execution_count": 34,
   "metadata": {},
   "outputs": [
    {
     "name": "stderr",
     "output_type": "stream",
     "text": [
      "<>:4: SyntaxWarning: \"is\" with a literal. Did you mean \"==\"?\n",
      "<>:4: SyntaxWarning: \"is\" with a literal. Did you mean \"==\"?\n",
      "<ipython-input-34-46742b71b3f5>:4: SyntaxWarning: \"is\" with a literal. Did you mean \"==\"?\n",
      "  if nuc is 'ACTG':\n"
     ]
    }
   ],
   "source": [
    "dna ='ACTGGTCTAGCTTTAAGGCGTA'\n",
    "def om (dna):\n",
    "    def lk\n",
    "    for nuc in (dna):\n",
    "        if nuc is 'ACTG':\n",
    "            print('the sequence is a dna ')\n",
    "        \n",
    "om(dna)"
   ]
  },
  {
   "cell_type": "code",
   "execution_count": null,
   "metadata": {},
   "outputs": [],
   "source": []
  },
  {
   "cell_type": "code",
   "execution_count": null,
   "metadata": {},
   "outputs": [],
   "source": []
  }
 ],
 "metadata": {
  "kernelspec": {
   "display_name": "Python 3",
   "language": "python",
   "name": "python3"
  },
  "language_info": {
   "codemirror_mode": {
    "name": "ipython",
    "version": 3
   },
   "file_extension": ".py",
   "mimetype": "text/x-python",
   "name": "python",
   "nbconvert_exporter": "python",
   "pygments_lexer": "ipython3",
   "version": "3.8.5"
  }
 },
 "nbformat": 4,
 "nbformat_minor": 5
}
