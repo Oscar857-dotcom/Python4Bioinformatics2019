{
 "cells": [
  {
   "cell_type": "code",
   "execution_count": 5,
   "id": "ad4d4d25-a5f5-47a1-b3d2-3e229ba22bd5",
   "metadata": {},
   "outputs": [
    {
     "name": "stdout",
     "output_type": "stream",
     "text": [
      "43.47826086956522\n"
     ]
    }
   ],
   "source": [
    "def percentageGC(trna):\n",
    "    trna_total=len(trna) \n",
    "    trna_GCtotal=(trna.count('G')+trna.count('C'))\n",
    "    trna_prcnt=trna_GCtotal/trna_total*100\n",
    "    return trna_prcnt\n",
    "trna_prcntg = percentageGC('AAGGGCTTAGCTTAATTAAAGTGGCTGATTTGCGTTCAGTTGATGCAGAGTGGGGTTTTGCAGTCCTTA')\n",
    "print(trna_prcntg)"
   ]
  },
  {
   "cell_type": "code",
   "execution_count": null,
   "id": "09eab9f1-07e7-4eec-b201-223175a6bec1",
   "metadata": {},
   "outputs": [],
   "source": []
  }
 ],
 "metadata": {
  "kernelspec": {
   "display_name": "Python 3",
   "language": "python",
   "name": "python3"
  },
  "language_info": {
   "codemirror_mode": {
    "name": "ipython",
    "version": 3
   },
   "file_extension": ".py",
   "mimetype": "text/x-python",
   "name": "python",
   "nbconvert_exporter": "python",
   "pygments_lexer": "ipython3",
   "version": "3.9.5"
  }
 },
 "nbformat": 4,
 "nbformat_minor": 5
}
