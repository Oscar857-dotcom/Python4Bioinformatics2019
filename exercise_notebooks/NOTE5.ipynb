{
 "cells": [
  {
   "cell_type": "code",
   "execution_count": 1,
   "id": "43e86f3a",
   "metadata": {},
   "outputs": [
    {
     "name": "stdin",
     "output_type": "stream",
     "text": [
      "Please enter 'b' to check balance ,'w' to withdraw or 'd' to deposit:  b\n"
     ]
    },
    {
     "name": "stdout",
     "output_type": "stream",
     "text": [
      "Your balance is: 50000\n",
      "Anything else?\n"
     ]
    },
    {
     "name": "stdin",
     "output_type": "stream",
     "text": [
      "Enter b for balance, w to withdraw ,d to deposit or q to quit:  d\n"
     ]
    },
    {
     "name": "stdout",
     "output_type": "stream",
     "text": [
      "d\n"
     ]
    },
    {
     "name": "stdin",
     "output_type": "stream",
     "text": [
      "Enter amount to deposit:  500\n"
     ]
    },
    {
     "name": "stdout",
     "output_type": "stream",
     "text": [
      "you have succefully made your deposit\n",
      "Your balance is: 50500\n",
      "Anything else?\n"
     ]
    },
    {
     "name": "stdin",
     "output_type": "stream",
     "text": [
      "Enter b for balance, w to withdraw, d to deposit or q to quit:  w\n",
      "Enter amount to withdraw:  200\n"
     ]
    },
    {
     "name": "stdout",
     "output_type": "stream",
     "text": [
      "here is your: 200.00\n",
      "Anything else?\n"
     ]
    },
    {
     "name": "stdin",
     "output_type": "stream",
     "text": [
      "Enter b for balance, w to withdraw, d to deposit or q to quit:  b\n"
     ]
    },
    {
     "name": "stdout",
     "output_type": "stream",
     "text": [
      "Your balance is: 50300\n",
      "Anything else?\n"
     ]
    },
    {
     "name": "stdin",
     "output_type": "stream",
     "text": [
      "Enter b for balance, w to withdraw ,d to deposit or q to quit:  q\n"
     ]
    },
    {
     "name": "stdout",
     "output_type": "stream",
     "text": [
      "q\n"
     ]
    }
   ],
   "source": [
    "acountbal = 50000\n",
    "choice = input(\"Please enter 'b' to check balance ,'w' to withdraw or 'd' to deposit: \")\n",
    "while choice != 'q':\n",
    "    if choice.lower() in ('w','b','d'):\n",
    "        if choice.lower() == 'b':\n",
    "            print(\"Your balance is: %d\" % acountbal)\n",
    "            print(\"Anything else?\")\n",
    "            choice = input(\"Enter b for balance, w to withdraw ,d to deposit or q to quit: \")\n",
    "            print(choice.lower())\n",
    "        elif choice.lower() == 'd':\n",
    "                deposit = float(input(\"Enter amount to deposit: \"))   \n",
    "                print(\"you have succefully made your deposit\")\n",
    "                acountbal = acountbal + deposit\n",
    "                print(\"Your balance is: %d\" % acountbal)\n",
    "                print(\"Anything else?\")\n",
    "                choice = input(\"Enter b for balance, w to withdraw, d to deposit or q to quit: \")\n",
    "        elif choice.lower() == 'w' :  \n",
    "            withdraw = float(input(\"Enter amount to withdraw: \"))\n",
    "            if withdraw <= acountbal:\n",
    "                print(\"here is your: %.2f\" % withdraw)\n",
    "                acountbal = acountbal - withdraw\n",
    "                print(\"Anything else?\")\n",
    "                choice = input(\"Enter b for balance, w to withdraw, d to deposit or q to quit: \")\n",
    "                         #choice = 'q'\n",
    "            else:\n",
    "                print(\"You have insufficient funds: %.2f\" % acountbal)\n",
    "    else:\n",
    "        print(\"Wrong choice!\")\n",
    "        choice = input(\"Please enter 'b' to check balance, 'w' to withdraw or 'd' to deposit: \")"
   ]
  },
  {
   "cell_type": "code",
   "execution_count": 4,
   "id": "4eb13ea3",
   "metadata": {},
   "outputs": [
    {
     "name": "stdout",
     "output_type": "stream",
     "text": [
      "1\n",
      "2\n",
      "3\n",
      "4\n",
      "5\n"
     ]
    }
   ],
   "source": [
    "X=0\n",
    "while X <= 4:\n",
    "    X+=1 #incrementing by adding plus 1\n",
    "    print(X)\n",
    "    "
   ]
  },
  {
   "cell_type": "code",
   "execution_count": 26,
   "id": "3342ff89",
   "metadata": {},
   "outputs": [
    {
     "name": "stdout",
     "output_type": "stream",
     "text": [
      "1\n",
      "2\n",
      "3\n",
      "4\n",
      "6\n",
      "7\n",
      "8\n",
      "9\n",
      "10\n"
     ]
    }
   ],
   "source": [
    "X=0\n",
    "while X <= 9:\n",
    "    X+=1 #incrementing by adding plus 1\n",
    "    if X == 5:\n",
    "        continue\n",
    "        #else:\n",
    "        X >5\n",
    "    print(X)"
   ]
  },
  {
   "cell_type": "code",
   "execution_count": 40,
   "id": "6e2de285",
   "metadata": {},
   "outputs": [
    {
     "name": "stdout",
     "output_type": "stream",
     "text": [
      "4\n",
      "5\n",
      "6\n",
      "7\n",
      "8\n",
      "9\n",
      "10\n"
     ]
    }
   ],
   "source": [
    "for i in range(11):\n",
    "    if i==4:\n",
    "        print(i)\n",
    "    elif i >=4:\n",
    "        print(i)\n",
    "        #if i>=4:\n"
   ]
  },
  {
   "cell_type": "code",
   "execution_count": null,
   "id": "1fad9536-a44b-41d0-a222-d2b246335844",
   "metadata": {},
   "outputs": [],
   "source": []
  }
 ],
 "metadata": {
  "kernelspec": {
   "display_name": "Python 3",
   "language": "python",
   "name": "python3"
  },
  "language_info": {
   "codemirror_mode": {
    "name": "ipython",
    "version": 3
   },
   "file_extension": ".py",
   "mimetype": "text/x-python",
   "name": "python",
   "nbconvert_exporter": "python",
   "pygments_lexer": "ipython3",
   "version": "3.9.5"
  }
 },
 "nbformat": 4,
 "nbformat_minor": 5
}
