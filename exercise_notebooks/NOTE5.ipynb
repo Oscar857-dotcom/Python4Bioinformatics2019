{
 "cells": [
  {
   "cell_type": "code",
   "execution_count": 8,
   "id": "33f56bb1-e1fd-4db3-a5bc-c8eab9a6386c",
   "metadata": {},
   "outputs": [
    {
     "name": "stdin",
     "output_type": "stream",
     "text": [
      "Please enter 'b' to check balance ,'w' to withdraw or 'd' to deposit:  w\n",
      "Enter amount to withdraw:  33\n"
     ]
    },
    {
     "name": "stdout",
     "output_type": "stream",
     "text": [
      "here is your: 33.00\n",
      "Anything else?\n"
     ]
    },
    {
     "name": "stdin",
     "output_type": "stream",
     "text": [
      "Enter b for balance, w to withdraw, d to deposit or q to quit:  q\n"
     ]
    }
   ],
   "source": [
    "acountbal = 50000\n",
    "choice = input(\"Please enter 'b' to check balance ,'w' to withdraw or 'd' to deposit: \")\n",
    "while choice != 'q':\n",
    "    if choice.lower() in ('w','b','d'):\n",
    "        if choice.lower() == 'b':\n",
    "            print(\"Your balance is: %d\" % acountbal)\n",
    "            print(\"Anything else?\")\n",
    "            choice = input(\"Enter b for balance, w to withdraw ,d to deposit or q to quit: \")\n",
    "            print(choice.lower())\n",
    "        elif choice.lower() == 'd':\n",
    "                deposit = float(input(\"Enter amount to deposit: \"))   \n",
    "                print(\"you have succefully made your deposit\")\n",
    "                acountbal = acountbal + deposit\n",
    "                print(\"Your balance is: %d\" % acountbal)\n",
    "                print(\"Anything else?\")\n",
    "                choice = input(\"Enter b for balance, w to withdraw, d to deposit or q to quit: \")\n",
    "        elif choice.lower() == 'w' :  \n",
    "            withdraw = float(input(\"Enter amount to withdraw: \"))\n",
    "            if withdraw <= acountbal:\n",
    "                print(\"here is your: %.2f\" % withdraw)\n",
    "                acountbal = acountbal - withdraw\n",
    "                print(\"Anything else?\")\n",
    "                choice = input(\"Enter b for balance, w to withdraw, d to deposit or q to quit: \")\n",
    "                         #choice = 'q'\n",
    "            else:\n",
    "                print(\"You have insufficient funds: %.2f\" % acountbal)\n",
    "    else:\n",
    "        print(\"Wrong choice!\")\n",
    "        choice = input(\"Please enter 'b' to check balance, 'w' to withdraw or 'd' to deposit: \")"
   ]
  },
  {
   "cell_type": "code",
   "execution_count": null,
   "id": "cce8fbe3-8a00-4d43-b720-0b6f596a91e5",
   "metadata": {},
   "outputs": [],
   "source": []
  }
 ],
 "metadata": {
  "kernelspec": {
   "display_name": "Python 3",
   "language": "python",
   "name": "python3"
  },
  "language_info": {
   "codemirror_mode": {
    "name": "ipython",
    "version": 3
   },
   "file_extension": ".py",
   "mimetype": "text/x-python",
   "name": "python",
   "nbconvert_exporter": "python",
   "pygments_lexer": "ipython3",
   "version": "3.9.5"
  }
 },
 "nbformat": 4,
 "nbformat_minor": 5
}
