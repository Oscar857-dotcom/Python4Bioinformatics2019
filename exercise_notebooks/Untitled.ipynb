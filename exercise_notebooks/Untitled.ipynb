{
 "cells": [
  {
   "cell_type": "code",
   "execution_count": 1,
   "id": "33dd2e63-fee3-4c3f-abc7-31abd66943d3",
   "metadata": {},
   "outputs": [],
   "source": [
    "import extractor"
   ]
  },
  {
   "cell_type": "code",
   "execution_count": 7,
   "id": "e16f5344-236e-4b51-8786-883d25f0bde8",
   "metadata": {},
   "outputs": [
    {
     "ename": "NameError",
     "evalue": "name 'extractor_species' is not defined",
     "output_type": "error",
     "traceback": [
      "\u001b[0;31m---------------------------------------------------------------------------\u001b[0m",
      "\u001b[0;31mNameError\u001b[0m                                 Traceback (most recent call last)",
      "\u001b[0;32m<ipython-input-7-b44917d85fc4>\u001b[0m in \u001b[0;36m<module>\u001b[0;34m\u001b[0m\n\u001b[0;32m----> 1\u001b[0;31m \u001b[0msp_2\u001b[0m \u001b[0;34m=\u001b[0m \u001b[0mextractor_species\u001b[0m\u001b[0;34m(\u001b[0m\u001b[0mtesta_o\u001b[0m\u001b[0;34m)\u001b[0m\u001b[0;34m\u001b[0m\u001b[0;34m\u001b[0m\u001b[0m\n\u001b[0m",
      "\u001b[0;31mNameError\u001b[0m: name 'extractor_species' is not defined"
     ]
    }
   ],
   "source": [
    "sp_2 = extractor_species(testa_o)\n",
    "extractor.extractor_species ()"
   ]
  },
  {
   "cell_type": "code",
   "execution_count": null,
   "id": "a0f0a256-96e1-4f62-9461-ae80bee0e713",
   "metadata": {},
   "outputs": [],
   "source": []
  }
 ],
 "metadata": {
  "kernelspec": {
   "display_name": "Python 3",
   "language": "python",
   "name": "python3"
  },
  "language_info": {
   "codemirror_mode": {
    "name": "ipython",
    "version": 3
   },
   "file_extension": ".py",
   "mimetype": "text/x-python",
   "name": "python",
   "nbconvert_exporter": "python",
   "pygments_lexer": "ipython3",
   "version": "3.9.5"
  }
 },
 "nbformat": 4,
 "nbformat_minor": 5
}
